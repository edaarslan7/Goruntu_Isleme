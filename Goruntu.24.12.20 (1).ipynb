{
 "cells": [
  {
   "cell_type": "code",
   "execution_count": null,
   "metadata": {},
   "outputs": [],
   "source": [
    "import numpy as np\n",
    "\n",
    "class Perceptron(object):\n",
    "    \"\"\"Impleents a perceptron network \"\"\"\n",
    "    def __init__(self,input_size,lr=1,epochs=10):\n",
    "        self.W = np.zeros(input_size+1)\n",
    "        # add one for bias\n",
    "        self.epochs = epochs\n",
    "        self.lr = lr\n",
    "  \n",
    "    def activation_fn(self,x):\n",
    "        return 1 if x >= 0 else 0\n",
    "    \n",
    "    def predict(self,x):\n",
    "        x = np.insert(x,0,1)\n",
    "        z = self.W.T.dot(x)\n",
    "        a = self.activation_fn(z)\n",
    "        return a\n",
    "    \n",
    "    def fit(self,X,d):\n",
    "        for _ in range(self.epochs):\n",
    "            for i in range(d.shape[0]):\n",
    "                y = self.predict(X[i])\n",
    "                e = d[i] - y\n",
    "                self.W = self.W + self.lr * e * np.insert(X[i],0,1)"
   ]
  },
  {
   "cell_type": "code",
   "execution_count": null,
   "metadata": {},
   "outputs": [],
   "source": [
    "mp=Perceptron(5)\n",
    "#mp.W\n",
    "#mp.activation_fn(-10)\n",
    "x=np.asarray([-10,-2,-30,4,-5]) #ndarray dim diff\n",
    "#x\n",
    "mp.predict(x)"
   ]
  },
  {
   "cell_type": "code",
   "execution_count": null,
   "metadata": {},
   "outputs": [],
   "source": [
    "X = np.array([\n",
    "        [0, 0],\n",
    "        [0, 1],\n",
    "        [1, 0],\n",
    "        [1, 1]])"
   ]
  },
  {
   "cell_type": "code",
   "execution_count": null,
   "metadata": {},
   "outputs": [],
   "source": [
    "d = np.array([0, 0, 0, 1])\n",
    " \n",
    "perceptron = Perceptron(input_size=2)\n",
    "perceptron.fit(X, d)\n",
    "print(perceptron.W)"
   ]
  },
  {
   "cell_type": "code",
   "execution_count": null,
   "metadata": {},
   "outputs": [],
   "source": [
    "perceptron.predict(np.asarray([1,1]))"
   ]
  },
  {
   "cell_type": "markdown",
   "metadata": {},
   "source": [
    "1) Perceptron class tanımınında var olan fonksiyonları kısaca tanıtınız.\n",
    "\n",
    "init fonksiyonu : Algılayıcı oluşturuluyor ve ağırlık vektörü için girdiler alınıyor. Ağırlık vektörüne sapmayı dahil edebilmek için girdi boyutu bir arttırılıyor. \n",
    "\n",
    "activation_fn fonksiyonu : Aktivasyon fonksiyonu belirlenip girdinin 0'dan büyük ya da 0'a eşit veya  0'dan küçük olması kontrol ediliyor.\n",
    "\n",
    "predict fonksiyonu : Algılayıcı ile bir girdi alarak bir çıktı döndürmek için yazılan fonksiyondur. Eğilim girdiye eklenir böylece iç çarpım hesaplanır ve aktivasyon fonksiyonu uygulanır.\n",
    "\n",
    "fit fonksiyonu: Ağırlık güncellemek için kullanılır. "
   ]
  },
  {
   "cell_type": "markdown",
   "metadata": {},
   "source": [
    "2) XOR için verileri değiştirip çalışmasınızı gözlemleyiniz.\n",
    "\n",
    "X = np.array([\n",
    "        [0, 0],\n",
    "        [0, 1],\n",
    "        [1, 0],\n",
    "        [1, 1]])\n",
    "\n",
    "d = np.array([0,1,1,0]) \n",
    "\n",
    "perceptron = Perceptron(input_size=2)\n",
    "\n",
    "fit fonksiyonundan önce perceptron.W sonucunda array([0.,0.,0.]) çıktısı oluşur. \n",
    "\n",
    "perceptron.fit(X,d) \n",
    "\n",
    "fit fonksiyonundan sonra perceptron.W sonucunda array([0.-1.,0.]) çıktısı oluşur.\n",
    "\n",
    "predict fonksiyonu için:\n",
    "\n",
    "perceptron.predict(np.asarray([0,0])) kullanımı için sonuç 1 oluyor\n",
    "\n",
    "perceptron.predict(np.asarray([0,1])) kullanımı için sonuç 1 oluyor\n",
    "\n",
    "perceptron.predict(np.asarray([1,0])) kullanımı için sonuç 0 oluyor\n",
    "\n",
    "perceptron.predict(np.asarray([1,1])) kullanımı için sonuç 0 oluyor\n",
    "\n",
    "Sonuç olarak XOR için predict değerleri doğru değildir. Bunun sebebi XOR doğrusal olarak ayrılamadığından, XOR kullanmak\n",
    "için tek katmanlı algılayıcı kullanılamaz. "
   ]
  },
  {
   "cell_type": "markdown",
   "metadata": {},
   "source": [
    "3) bu class ile dersimize kayıtlı 40 öğrenci için imza tanıması yapılırsa X ve d değerlerini ne olur, predict fonksiyonu nasıl kullanılır açıklayınız\n",
    "\n",
    "Öğrencilerin imza verileri derste bulunup bulunmaması biçiminde binary olarak ele alınabilir. Böylelikle X = np.asarray([0,0,0,0,...,0,0],[0,0,0,...,0,1],...,[1,1,1,...,1,1]) şeklinde bir değer alır. d = np.array([0,0,...,0,1]) bu d değeri AND ile seçilirse her imza için farklı bir değer elde etmek daha yüksek bir olasılığa sahip olur. "
   ]
  },
  {
   "cell_type": "markdown",
   "metadata": {},
   "source": [
    "4) Bu modelin hatası nasıl elde edilir, kendi çözümünüzü/ yorumunuzu yazınız.\n",
    "\n",
    "Bu modele göre XOR çözümü problem oluyor. Sebebi ise XOR'daki sınıfların doğrusal ayrılabilir olmamasıdır. XOR probleminin çözümü için çok katmanlı algılayıcı kullanılabilir."
   ]
  }
 ],
 "metadata": {
  "kernelspec": {
   "display_name": "Python 3",
   "language": "python",
   "name": "python3"
  },
  "language_info": {
   "codemirror_mode": {
    "name": "ipython",
    "version": 3
   },
   "file_extension": ".py",
   "mimetype": "text/x-python",
   "name": "python",
   "nbconvert_exporter": "python",
   "pygments_lexer": "ipython3",
   "version": "3.8.3"
  }
 },
 "nbformat": 4,
 "nbformat_minor": 4
}
